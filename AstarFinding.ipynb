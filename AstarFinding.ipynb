{
 "cells": [
  {
   "attachments": {},
   "cell_type": "markdown",
   "metadata": {},
   "source": [
    "# A Star Finding Model"
   ]
  },
  {
   "attachments": {},
   "cell_type": "markdown",
   "metadata": {},
   "source": [
    "## Imports"
   ]
  },
  {
   "cell_type": "code",
   "execution_count": 227,
   "metadata": {},
   "outputs": [],
   "source": [
    "import random\n",
    "import numpy as np\n",
    "import matplotlib.colors\n",
    "import matplotlib.pyplot as plt\n",
    "from queue import PriorityQueue"
   ]
  },
  {
   "attachments": {},
   "cell_type": "markdown",
   "metadata": {},
   "source": [
    "# A Star Model"
   ]
  },
  {
   "attachments": {},
   "cell_type": "markdown",
   "metadata": {},
   "source": [
    "## Creating the A* Model"
   ]
  },
  {
   "cell_type": "code",
   "execution_count": 228,
   "metadata": {},
   "outputs": [],
   "source": [
    "class AStarNode:\n",
    "    # def __init__(self, x, y):\n",
    "    #     self.x = x\n",
    "    #     self.y = y\n",
    "    #     self.prevNode = None\n",
    "    #     self.gCost = 0\n",
    "    #     self.hCost = 0\n",
    "    #     self.fCost = 0\n",
    "        \n",
    "    def __init__(self, x, y, prevNode=None):\n",
    "        self.x = x\n",
    "        self.y = y\n",
    "        self.prevNode = prevNode\n",
    "        self.gCost = 0\n",
    "        self.hCost = 0\n",
    "        self.fCost = 0\n",
    "\n",
    "    def CalculateFCost(self):\n",
    "        self.fCost = self.gCost + self.hCost"
   ]
  },
  {
   "cell_type": "code",
   "execution_count": 229,
   "metadata": {},
   "outputs": [],
   "source": [
    "class PathFinder:\n",
    "\n",
    "    def __init__(self, map, startPoint, endPoint):\n",
    "            self.map = np.array(map)\n",
    "            self.startPoint = startPoint\n",
    "            self.endPoint = endPoint\n",
    "            self.path = []\n",
    "\n",
    "    def FindPath(self):\n",
    "            \n",
    "            startNode = AStarNode(self.startPoint[0], self.startPoint[1])\n",
    "            endNode = AStarNode(self.endPoint[0], self.endPoint[1])\n",
    "            currentNode = None\n",
    "\n",
    "            width = self.map.shape[0]\n",
    "            height = self.map.shape[1]\n",
    "            directions = [[-1, 0], [1, 0], [0, 1], [0, -1]]\n",
    "\n",
    "            startNode.gCost = 0\n",
    "            startNode.hCost = self.CalculateDistanceCost(startNode, endNode)\n",
    "            startNode.CalculateFCost()\n",
    "\n",
    "            openList = [startNode]\n",
    "            closedList = []\n",
    "\n",
    "            while len(openList) > 0:\n",
    "                currentNode = self.GetLowestCostNode(openList)\n",
    "\n",
    "                if currentNode.x == endNode.x and currentNode.y == endNode.y:\n",
    "                    break\n",
    "\n",
    "                openList.remove(currentNode)\n",
    "                closedList.append(currentNode)\n",
    "\n",
    "                for i in range(len(directions)):\n",
    "                    nextX = currentNode.x + directions[i][0]\n",
    "                    nextY = currentNode.y + directions[i][1]\n",
    "                    nextNode = AStarNode(nextX, nextY, currentNode)\n",
    "\n",
    "                    alreadyVisited = any(node.x == nextNode.x and node.y == nextNode.y for node in closedList)\n",
    "                    sameCoorIndex = next((i for i, node in enumerate(openList) if node.x == nextNode.x and node.y == nextNode.y), -1)\n",
    "\n",
    "                    if 0 <= nextX < width and 0 <= nextY < height and not alreadyVisited and self.map[nextX][nextY] != 1:\n",
    "                        gCost = currentNode.gCost + self.CalculateDistanceCost(currentNode, nextNode)\n",
    "                        nextNode.gCost = gCost\n",
    "\n",
    "                        hCost = self.CalculateDistanceCost(nextNode, endNode)\n",
    "                        nextNode.hCost = hCost\n",
    "\n",
    "                        nextNode.CalculateFCost()\n",
    "\n",
    "                        if sameCoorIndex == -1 or (nextNode.fCost < openList[sameCoorIndex].fCost):\n",
    "                            openList.append(nextNode)\n",
    "\n",
    "            print(\"Current Position: \")\n",
    "            print(currentNode.x, currentNode.y)\n",
    "\n",
    "            traverseNode = currentNode.prevNode\n",
    "            pathDistance = 0\n",
    "\n",
    "            if traverseNode is not None:\n",
    "                while traverseNode.prevNode is not None:\n",
    "                    pathDistance += 1\n",
    "                    self.map[traverseNode.x][traverseNode.y] = 2\n",
    "                    traverseNode = traverseNode.prevNode\n",
    "            else:\n",
    "                print(\"traverseNode is None\")\n",
    "\n",
    "            print(\"Shortest Path Distance: \", pathDistance)\n",
    "            \n",
    "            # Append the coordinates of each node to the path list\n",
    "            while currentNode is not None:\n",
    "                self.path.append((currentNode.x, currentNode.y))\n",
    "                currentNode = currentNode.prevNode\n",
    "\n",
    "            # Reverse the list so that it starts from the start point and ends at the end point\n",
    "            self.path = self.path[::-1]\n",
    "            print(\"Path taken: \")\n",
    "            print(self.path)\n",
    "\n",
    "            # Add the path to the plot\n",
    "            for point in self.path:\n",
    "                plt.scatter(point[1], point[0], c='g', marker='o')\n",
    "\n",
    "            return self.path\n",
    "\n",
    "    # The CalculateDistanceCost method takes two AStarNode objects as input and returns the Manhattan distance between the two nodes.\n",
    "    def CalculateDistanceCost(self, a, b):\n",
    "        xDistance = abs(a.x - b.x)\n",
    "        yDistance = abs(a.y - b.y)\n",
    "\n",
    "        # Manhattan distance formula\n",
    "        distance = xDistance + yDistance\n",
    "\n",
    "        return distance\n",
    "\n",
    "    # The GetLowestCostNode method takes a list of AStarNode objects and returns the node with the lowest fCost (total cost = gCost + hCost)\n",
    "    def GetLowestCostNode(self, pathList):\n",
    "        lowestCostNode = pathList[0]\n",
    "\n",
    "        for i in range(1, len(pathList)):\n",
    "            if pathList[i].fCost < lowestCostNode.fCost:\n",
    "                lowestCostNode = pathList[i]\n",
    "\n",
    "        return lowestCostNode"
   ]
  },
  {
   "attachments": {},
   "cell_type": "markdown",
   "metadata": {},
   "source": [
    "## Testing The A* Model"
   ]
  },
  {
   "cell_type": "code",
   "execution_count": 278,
   "metadata": {},
   "outputs": [
    {
     "name": "stdout",
     "output_type": "stream",
     "text": [
      "Start Point: \n",
      "(1, 4)\n",
      "End Point: \n",
      "(3, 1)\n",
      "Current Position: \n",
      "3 1\n",
      "Shortest Path Distance:  4\n",
      "Path taken: \n",
      "[(1, 4), (1, 3), (1, 2), (1, 1), (2, 1), (3, 1)]\n"
     ]
    },
    {
     "data": {
      "image/png": "[encoded data removed]",
      "text/plain": [
       "<Figure size 432x288 with 1 Axes>"
      ]
     },
     "metadata": {
      "needs_background": "light"
     },
     "output_type": "display_data"
    }
   ],
   "source": [
    "#TESTTING THE A* MODEL\n",
    "\n",
    "# Define the map as a 2D array\n",
    "# 1 represents a wall, 0 represents open space, 2 represents the pallet\n",
    "map = np.array([[1, 1, 1, 1, 1, 1, 1],\n",
    "                [1, 0, 0, 0, 0, 0, 1],\n",
    "                [1, 0, 1, 0, 1, 0, 1],\n",
    "                [1, 0, 1, 0, 1, 0, 1],\n",
    "                [1, 0, 0, 0, 1, 0, 1],\n",
    "                [1, 1, 1, 1, 1, 1, 1]])\n",
    "\n",
    "# Define the starting position of the AI\n",
    "# startPoint = (4, 4)\n",
    "while True:\n",
    "    startPoint = (random.randint(0, 5), random.randint(0, 5))\n",
    "    if map[startPoint[0]][startPoint[1]] != 1:\n",
    "        break\n",
    "\n",
    "# Define the location of the pallet\n",
    "# endPoint = (25, 25)\n",
    "while True:\n",
    "    endPoint = (random.randint(0, 5), random.randint(0, 5))\n",
    "    if map[endPoint[0]][endPoint[1]] != 1 and endPoint != startPoint:\n",
    "        break\n",
    "\n",
    "print(\"Start Point: \")\n",
    "print(startPoint)\n",
    "print(\"End Point: \")\n",
    "print(endPoint)\n",
    "\n",
    "if map[startPoint[0]][startPoint[1]] != 1 and map[endPoint[0]][endPoint[1]] != 1:\n",
    "\n",
    "    # Call the A* function to find the path from the start to the end point\n",
    "    path_finder = PathFinder(map, startPoint, endPoint,)\n",
    "    # path_finder.FindPath()\n",
    "    path = path_finder.FindPath()\n",
    "\n",
    "    # # Plot the map using imshow()\n",
    "    # cmap = matplotlib.colors.ListedColormap(['blue', 'green'])\n",
    "    plt.imshow(path_finder.map, cmap='gray')\n",
    "\n",
    "    # Plot the start and end points\n",
    "    plt.scatter(startPoint[1], startPoint[0], c='g', marker='s')\n",
    "    plt.scatter(endPoint[1], endPoint[0], c='r', marker='s')\n",
    "\n",
    "    # Show the plot\n",
    "    # plt.show()\n",
    "\n",
    "else:\n",
    "    print(\"Start point or end point is on a wall. Please choose new coordinates.\")"
   ]
  },
  {
   "attachments": {},
   "cell_type": "markdown",
   "metadata": {},
   "source": [
    "# Map Generation (Cellular Automata)"
   ]
  },
  {
   "attachments": {},
   "cell_type": "markdown",
   "metadata": {},
   "source": [
    "## Map Generation"
   ]
  },
  {
   "cell_type": "code",
   "execution_count": 231,
   "metadata": {},
   "outputs": [
    {
     "data": {
      "text/plain": [
       "<matplotlib.image.AxesImage at 0x212896ed610>"
      ]
     },
     "execution_count": 231,
     "metadata": {},
     "output_type": "execute_result"
    },
    {
     "data": {
      "image/png": "[encoded data removed]",
      "text/plain": [
       "<Figure size 432x288 with 1 Axes>"
      ]
     },
     "metadata": {
      "needs_background": "light"
     },
     "output_type": "display_data"
    }
   ],
   "source": [
    "class MapGenerationCA():\n",
    "\n",
    "    def __init__(self, map):\n",
    "        self.map = np.array(map)\n",
    "\n",
    "    def create_mapCA(self):\n",
    "\n",
    "        width = self.map.shape[0]\n",
    "        height = self.map.shape[1]\n",
    "\n",
    "        \n",
    "\n",
    "        for i in range(width):\n",
    "            for j in range(height):\n",
    "                if (i == 0 or i == width-1 or j == 0 or j == height -1):\n",
    "                    self.map[i][j]=1\n",
    "                else:\n",
    "                    if (random.randint(0,100)>70):\n",
    "                        self.map[i][j]=1\n",
    "                    else:\n",
    "                        self.map[i][j]=0\n",
    "\n",
    "        for i in range(1, width - 1):\n",
    "            for j in range(1, height - 1):\n",
    "                neighbors = [self.map[i-1][j], self.map[i+1][j], self.map[i][j-1], self.map[i][j+1]]\n",
    "                if sum(neighbors) < 2 :\n",
    "                    self.map[i][j] = 0\n",
    "                elif sum(neighbors) >3:\n",
    "                    self.map[i][j]=1\n",
    "\n",
    "\n",
    "        return self.map\n",
    "\n",
    "\n",
    "map_generationCA = MapGenerationCA(np.zeros((30, 30)))\n",
    "CAmap = map_generationCA.create_mapCA()\n",
    "\n",
    "# # # Plot the map using imshow()\n",
    "cmap = matplotlib.colors.ListedColormap(['blue', 'green'])\n",
    "plt.imshow(map_generationCA.map, cmap=cmap)\n"
   ]
  },
  {
   "attachments": {},
   "cell_type": "markdown",
   "metadata": {},
   "source": [
    "## Testing C.A Map"
   ]
  },
  {
   "cell_type": "code",
   "execution_count": 283,
   "metadata": {},
   "outputs": [
    {
     "name": "stdout",
     "output_type": "stream",
     "text": [
      "Start Point: \n",
      "(3, 12)\n",
      "End Point: \n",
      "(13, 2)\n",
      "Current Position: \n",
      "13 2\n",
      "Shortest Path Distance:  19\n",
      "Path taken: \n",
      "[(3, 12), (4, 12), (5, 12), (6, 12), (7, 12), (8, 12), (9, 12), (10, 12), (11, 12), (11, 11), (11, 10), (11, 9), (12, 9), (13, 9), (13, 8), (13, 7), (13, 6), (13, 5), (13, 4), (13, 3), (13, 2)]\n"
     ]
    },
    {
     "data": {
      "image/png": "[encoded data removed]",
      "text/plain": [
       "<Figure size 432x288 with 1 Axes>"
      ]
     },
     "metadata": {
      "needs_background": "light"
     },
     "output_type": "display_data"
    }
   ],
   "source": [
    "#________________________________________________________________________________________________________________\n",
    "# Load the Celular Automata Map Generation\n",
    "#________________________________________________________________________________________________________________\n",
    "\n",
    "# C.A Map\n",
    "map_generationCA = MapGenerationCA(np.zeros((15, 15)))\n",
    "map = map_generationCA.create_mapCA()\n",
    "\n",
    "#________________________________________________________________________________________________________________\n",
    "# Test the A Star Path Finding on the Celullar Automata Map Generation.\n",
    "#________________________________________________________________________________________________________________\n",
    "\n",
    "# # Define the starting position of the AI\n",
    "# # startPoint = (4, 4)\n",
    "# startPoint = (random.randint(0, 29), random.randint(0, 29))\n",
    "\n",
    "# # Define the location of the pallet\n",
    "# # endPoint = (25, 25)\n",
    "# endPoint = (random.randint(0, 29), random.randint(0, 29))\n",
    "\n",
    "while True:\n",
    "    startPoint = (random.randint(0, 14), random.randint(0, 14))\n",
    "    if map[startPoint[0]][startPoint[1]] != 1:\n",
    "        break\n",
    "\n",
    "while True:\n",
    "    endPoint = (random.randint(0, 14), random.randint(0, 14))\n",
    "    if map[endPoint[0]][endPoint[1]] != 1 and endPoint != startPoint:\n",
    "        break\n",
    "\n",
    "print(\"Start Point: \")\n",
    "print(startPoint)\n",
    "print(\"End Point: \")\n",
    "print(endPoint)\n",
    "\n",
    "if map[startPoint[0]][startPoint[1]] != 1 and map[endPoint[0]][endPoint[1]] != 1:\n",
    "    \n",
    "    # Call the A* function to find the path from the start to the end point\n",
    "    path_finder = PathFinder(map, startPoint, endPoint,)\n",
    "    path = path_finder.FindPath()\n",
    "\n",
    "    # # Plot the map using imshow()\n",
    "    cmap = matplotlib.colors.ListedColormap(['blue', 'green'])\n",
    "    plt.imshow(path_finder.map, cmap='gray')\n",
    "\n",
    "    # Plot the start and end points\n",
    "    plt.scatter(startPoint[1], startPoint[0], c='green', marker='s')\n",
    "    plt.scatter(endPoint[1], endPoint[0], c='red', marker='s')\n",
    "\n",
    "    # Add the path to the plot\n",
    "    # for point in path:\n",
    "    #     plt.scatter(point[0], point[1], c='pink', marker='o')\n",
    "\n",
    "    # Show the plot\n",
    "    # plt.show()\n",
    "\n",
    "else:\n",
    "    print(\"Start point or end point is on a wall. Please choose new coordinates.\")\n"
   ]
  },
  {
   "attachments": {},
   "cell_type": "markdown",
   "metadata": {},
   "source": [
    "# Map Generation (Drunkard Walk)"
   ]
  },
  {
   "attachments": {},
   "cell_type": "markdown",
   "metadata": {},
   "source": [
    "## Map Generation"
   ]
  },
  {
   "cell_type": "code",
   "execution_count": 233,
   "metadata": {},
   "outputs": [
    {
     "name": "stdout",
     "output_type": "stream",
     "text": [
      "⬛⬛⬛⬛⬛⬛⬛⬛⬛⬛\n",
      "⬛⬜⬜⬜⬜⬛⬛⬛⬛⬛\n",
      "⬛⬜⬜⬜⬜⬜⬜⬛⬛⬛\n",
      "⬛⬜⬜⬜⬜⬜⬛⬛⬛⬛\n",
      "⬛⬜⬜⬜⬜⬜⬛⬛⬛⬛\n",
      "⬛⬜⬜⬜⬜⬜⬛⬛⬛⬛\n",
      "⬛⬜⬜⬜⬜⬛⬜⬜⬜⬛\n",
      "⬛⬛⬜⬜⬜⬜⬜⬜⬜⬛\n",
      "⬛⬛⬛⬜⬜⬜⬜⬜⬜⬛\n",
      "⬛⬛⬛⬛⬛⬛⬛⬛⬛⬛\n"
     ]
    },
    {
     "data": {
      "image/png": "[encoded data removed]",
      "text/plain": [
       "<Figure size 432x288 with 1 Axes>"
      ]
     },
     "metadata": {
      "needs_background": "light"
     },
     "output_type": "display_data"
    }
   ],
   "source": [
    "class MapGenerationDW():\n",
    "\n",
    "    def __init__(self, map):\n",
    "        self.map = map\n",
    "\n",
    "    def create_mapDW(self):\n",
    "        width = self.map.shape[0]\n",
    "        height = self.map.shape[1]\n",
    "        map = np.ones((width,height))\n",
    "\n",
    "        FillPercentage = 70\n",
    "\n",
    "        counter = 0\n",
    "\n",
    "        x = random.randint(1,width-2)\n",
    "        y = random.randint(1,height-2)\n",
    "\n",
    "        while(counter<((width-2)*(height-2)*FillPercentage/100)):\n",
    "\n",
    "            move = random.randint(0,3)\n",
    "            if((x!=0) & (x!=width-1) & (y!=0) & (y!=height-1)):\n",
    "\n",
    "                #UP\n",
    "                if(move==0):\n",
    "                    if((x>0) & (x<width-1) & (y+1>0) & (y+1<height-1)):\n",
    "                        y=y+1\n",
    "\n",
    "                #RIGHT\n",
    "                elif(move==1):\n",
    "                    if((x+1>0) & (x+1<width-1) & (y>0) & (y<height-1)):\n",
    "                        x=x+1\n",
    "\n",
    "                #DOWN\n",
    "                elif(move==2):\n",
    "                    if((x>0) & (x<width-1) & (y-1>0) & (y-1<height-1)):\n",
    "                        y=y-1\n",
    "\n",
    "                #LEFT\n",
    "                else:\n",
    "                    if((x-1>0) & (x-1<width-1) & (y>0) & (y<height-1)):\n",
    "                        x=x-1\n",
    "\n",
    "                if(map[x,y] == 1):\n",
    "                    counter+=1\n",
    "                map[x,y] = 0\n",
    "\n",
    "        # Get a list of empty cells\n",
    "        # empty_cells = [(i, j) for i in range(1, width-1) for j in range(1, height-1) if map[i, j] == 0]\n",
    "        # print (\"Empty cells\")\n",
    "        # print (empty_cells)\n",
    "\n",
    "        # Select random empty cells as start point and endpoint\n",
    "        # start_point = random.choice(empty_cells)\n",
    "        # empty_cells.remove(start_point)\n",
    "        # end_point = random.choice(empty_cells)\n",
    "\n",
    "        # start_point = (3,2)\n",
    "        # end_point = (5,5)\n",
    "\n",
    "        # Mark the start point and endpoint in the map\n",
    "        # map[start_point[0], start_point[1]] = 2\n",
    "        # map[end_point[0], end_point[1]] = 3\n",
    "        \n",
    "        for j in range(height):\n",
    "            for i in range(width):\n",
    "                if(map[i,j]==0):\n",
    "                    print(\"⬜\", end=\"\")\n",
    "                else:\n",
    "                    print(\"⬛\", end=\"\")\n",
    "            print(\"\")\n",
    "\n",
    "        # elif(map[i,j]==2):\n",
    "        #             print(\"\\033[1;32;mS\", end=\"\")\n",
    "        # elif(map[i,j]==3):\n",
    "        #             print(\"\\033[1;31;mE\", end=\"\")\n",
    "\n",
    "        colors = [\"white\", \"black\",\"green\",\"black\"]\n",
    "        cmap = matplotlib.colors.ListedColormap(colors)\n",
    "        map = np.fliplr(map)\n",
    "        # map = np.flipud(map)\n",
    "        map = np.rot90(map, k=1)\n",
    "\n",
    "        # Plot the map using imshow()\n",
    "        plt.imshow(map, cmap=cmap)\n",
    "        plt.show()\n",
    "\n",
    "        return map\n",
    "\n",
    "map_generation = MapGenerationDW(np.zeros((10, 10)))\n",
    "map = map_generation.create_mapDW()\n",
    "# empty_cells = map_generation.create_mapDW()\n",
    "\n"
   ]
  },
  {
   "attachments": {},
   "cell_type": "markdown",
   "metadata": {},
   "source": [
    "## Testing Drunkard Walk"
   ]
  },
  {
   "cell_type": "code",
   "execution_count": 284,
   "metadata": {},
   "outputs": [
    {
     "name": "stdout",
     "output_type": "stream",
     "text": [
      "Start Point: \n",
      "(4, 4)\n",
      "End Point: \n",
      "(9, 5)\n",
      "Current Position: \n",
      "9 5\n",
      "Shortest Path Distance:  5\n",
      "Path taken: \n",
      "[(4, 4), (5, 4), (6, 4), (6, 5), (7, 5), (8, 5), (9, 5)]\n"
     ]
    },
    {
     "data": {
      "image/png": "[encoded data removed]",
      "text/plain": [
       "<Figure size 432x288 with 1 Axes>"
      ]
     },
     "metadata": {
      "needs_background": "light"
     },
     "output_type": "display_data"
    }
   ],
   "source": [
    "#________________________________________________________________________________________________________________\n",
    "# Load the Drunkard Walk Map Generation\n",
    "#________________________________________________________________________________________________________________\n",
    "\n",
    "# C.A Map\n",
    "map_generation = MapGenerationDW(np.zeros((10, 10)))\n",
    "# map = map_generation.create_mapDW()\n",
    "# empty_cells = map_generation.create_mapDW()\n",
    "\n",
    "#________________________________________________________________________________________________________________\n",
    "# Test the A Star Path Finding on the Drunkard Walk Map Generation.\n",
    "#________________________________________________________________________________________________________________\n",
    "\n",
    "while True:\n",
    "    startPoint = (random.randint(0, 9), random.randint(0, 9))\n",
    "    if map[startPoint[0]][startPoint[1]] != 1:\n",
    "        break\n",
    "\n",
    "while True:\n",
    "    endPoint = (random.randint(0, 9), random.randint(0, 9))\n",
    "    if map[endPoint[0]][endPoint[1]] != 1 and endPoint != startPoint:\n",
    "        break\n",
    "\n",
    "print(\"Start Point: \")\n",
    "print(startPoint)\n",
    "print(\"End Point: \")\n",
    "print(endPoint)\n",
    "\n",
    "\n",
    "# # Define the starting position of the AI\n",
    "# startPoint = (1, 1)\n",
    "\n",
    "# # Define the location of the pallet\n",
    "# endPoint = (3, 3)\n",
    "\n",
    "if map[startPoint[0]][startPoint[1]] != 1 and map[endPoint[0]][endPoint[1]] != 1:\n",
    "    \n",
    "    # Call the A* function to find the path from the start to the end point\n",
    "    path_finder = PathFinder(map, startPoint, endPoint,)\n",
    "    path = path_finder.FindPath()\n",
    "\n",
    "    # # # Plot the map using imshow()\n",
    "    # cmap = matplotlib.colors.ListedColormap(['blue', 'green'])\n",
    "    # plt.figure(figsize=(5, 5))\n",
    "    plt.imshow(path_finder.map, cmap='gray')\n",
    "\n",
    "    # # Plot the start and end points\n",
    "    plt.scatter(startPoint[1], startPoint[0], c='r', marker='s')\n",
    "    plt.scatter(endPoint[1], endPoint[0], c='g', marker='s')\n",
    "\n",
    "# # Add the path to the plot\n",
    "# for point in path:\n",
    "#     plt.scatter(point[0], point[1], c='pink', marker='o')\n",
    "\n",
    "# # # Show the plot\n",
    "# plt.show()\n",
    "\n",
    "else:\n",
    "    print(\"Start point or end point is on a wall. Please choose new coordinates.\")"
   ]
  },
  {
   "attachments": {},
   "cell_type": "markdown",
   "metadata": {},
   "source": [
    "# Explanation of the Code"
   ]
  },
  {
   "attachments": {},
   "cell_type": "markdown",
   "metadata": {},
   "source": [
    "## Path Finder Class"
   ]
  },
  {
   "attachments": {},
   "cell_type": "markdown",
   "metadata": {},
   "source": [
    "\"PathFinder\" that uses the A* algorithm to find the shortest path between a start point and an end point on a given map.\n",
    "\n",
    "The class has 3 instance variables:\n",
    "\n",
    "- \"map\": a 2D array representing the map, where 0 represents an empty cell and 1 represents an obstacle\n",
    "- \"startPoint\": a tuple containing the x, y coordinates of the starting point on the map\n",
    "- \"endPoint\": a tuple containing the x, y coordinates of the ending point on the map\n",
    "- \"path\": a list that will store the coordinates of each node in the path from start to end point\n",
    "- The class has three methods:\n",
    "\n",
    "- The init method initializes the instance variables when a new object of the class is created.\n",
    "- The FindPath method is where the A* algorithm is implemented. It uses the Manhattan distance formula to calculate the distance cost between two nodes and uses that cost to determine the best path from the start point to the end point.\n",
    "- The CalculateDistanceCost method takes two AStarNode objects as input and returns the Manhattan distance between the two nodes.\n",
    "- The GetLowestCostNode method takes a list of AStarNode objects and returns the node with the lowest fCost (total cost = gCost + hCost)\n",
    "\n",
    "The A* algorithm works by:\n",
    "\n",
    "1. Creating a start and end node from the start and end points passed to the class.\n",
    "2. Initializing the gCost (movement cost from the start node to the current node) and hCost (estimated movement cost from the current node to the end node) of the start node.\n",
    "3. Creating an open list and a closed list and adding the start node to the open list.\n",
    "4. While the open list is not empty:\n",
    "5. Getting the node with the lowest fCost (total cost) from the open list, this node will be the current node.\n",
    "6. If the current node is the end node, the algorithm has found the shortest path and the method returns the path.\n",
    "7. Removing the current node from the open list and adding it to the closed list.\n",
    "8. For each possible direction from the current node, checking if the next node is within the boundaries of the map, has not been visited before and is not an obstacle.\n",
    "9. If the next node is a valid node, calculating its gCost and hCost and adding it to the open list.\n",
    "10. If the next node is already in the open list and has a lower fCost than the current one, update the fCost and the parent of the node.\n",
    "11. When the open list is empty, the algorithm has not found a path.\n",
    "12. The path variable is filled with the nodes traversed in reverse order and returned.\n",
    "13. The path is plotted on the map using matplotlib."
   ]
  }
 ],
 "metadata": {
  "kernelspec": {
   "display_name": "Python 3",
   "language": "python",
   "name": "python3"
  },
  "language_info": {
   "codemirror_mode": {
    "name": "ipython",
    "version": 3
   },
   "file_extension": ".py",
   "mimetype": "text/x-python",
   "name": "python",
   "nbconvert_exporter": "python",
   "pygments_lexer": "ipython3",
   "version": "3.9.7"
  },
  "orig_nbformat": 4,
  "vscode": {
   "interpreter": {
    "hash": "81794d4967e6c3204c66dcd87b604927b115b27c00565d3d43f05ba2f3a2cb0d"
   }
  }
 },
 "nbformat": 4,
 "nbformat_minor": 2
}
